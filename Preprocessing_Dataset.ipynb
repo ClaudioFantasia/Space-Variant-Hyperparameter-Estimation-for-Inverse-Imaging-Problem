{
  "nbformat": 4,
  "nbformat_minor": 0,
  "metadata": {
    "colab": {
      "provenance": []
    },
    "kernelspec": {
      "name": "python3",
      "display_name": "Python 3"
    },
    "language_info": {
      "name": "python"
    }
  },
  "cells": [
    {
      "cell_type": "code",
      "execution_count": 1,
      "metadata": {
        "id": "FgkdxUsQMqad"
      },
      "outputs": [],
      "source": [
        "import numpy as np\n",
        "import torch\n",
        "import torch.nn as nn\n",
        "import torch.optim as optim\n",
        "from torchvision import datasets, transforms\n",
        "from torch.utils.data import DataLoader\n",
        "import os\n",
        "import matplotlib.pyplot as plt\n",
        "from PIL import Image\n",
        "import PIL\n",
        "import matplotlib"
      ]
    },
    {
      "cell_type": "code",
      "source": [
        "#import shutil\n",
        "#shutil.rmtree(\"/content/path\", ignore_errors=True)"
      ],
      "metadata": {
        "id": "PAE_VabeQKHe"
      },
      "execution_count": null,
      "outputs": []
    },
    {
      "cell_type": "code",
      "source": [
        "cwd = os.getcwd()\n",
        "dataPath = \"BerkleyDataset\"\n",
        "path = os.path.join(cwd,dataPath)\n",
        "os.mkdir(path, 0o666)"
      ],
      "metadata": {
        "id": "b-uu8OqaN0X-"
      },
      "execution_count": 2,
      "outputs": []
    },
    {
      "cell_type": "code",
      "source": [
        "import zipfile\n",
        "with zipfile.ZipFile(\"Dataset.zip\",\"r\") as zip_ref:\n",
        "    zip_ref.extractall(path)"
      ],
      "metadata": {
        "id": "fFreqgbANxEr"
      },
      "execution_count": 3,
      "outputs": []
    },
    {
      "cell_type": "code",
      "source": [
        "def createPatches(num_img, path, new_path):\n",
        "  img = np.array(plt.imread(path), dtype=\"float64\")\n",
        "  # this should be changed\n",
        "  (m,n) = np.shape(img)\n",
        "  if(m == 80):\n",
        "    verticalWind = 40\n",
        "    horizontalWind = 60\n",
        "  else:\n",
        "    verticalWind = 60\n",
        "    horizontalWind = 40\n",
        "\n",
        "  N = 200\n",
        "  Z = np.random.normal(loc = 0, scale = np.sqrt(N), size = (m,n))\n",
        "  imgGaussian = img + Z\n",
        "  #normalizing in the interval float(0,1) and then multiplicate for 255 maybe it is a better choice\n",
        "  for i in range(m):\n",
        "    for j in range(n):\n",
        "      if(imgGaussian[i,j] < 0):\n",
        "        imgGaussian[i,j] = 0\n",
        "      elif(imgGaussian[i,j] > 255):\n",
        "        imgGaussian[i,j] = 255\n",
        "  imgGaussian = imgGaussian.astype('uint8')\n",
        "  maxN = int(m / verticalWind)\n",
        "  maxM = int(n / horizontalWind)\n",
        "  i = 0\n",
        "\n",
        "  for n in range(maxN):\n",
        "    for m in range(maxM):\n",
        "      im = imgGaussian[verticalWind * n:verticalWind * (n+1),horizontalWind * m:horizontalWind * (m+1)]\n",
        "      im = Image.fromarray(im)\n",
        "      im.save(os.path.join(new_path , (\"img\" + str(num_img) + \"_patch\" + str(i) + \".jpg\" )))\n",
        "      i += 1\n",
        "  i = 0"
      ],
      "metadata": {
        "id": "p8ObsiZgcffM"
      },
      "execution_count": 4,
      "outputs": []
    },
    {
      "cell_type": "code",
      "source": [
        "#from google.colab import drive\n",
        "#drive.mount('/content/drive')"
      ],
      "metadata": {
        "id": "l6GlraSugWDz"
      },
      "execution_count": null,
      "outputs": []
    },
    {
      "cell_type": "code",
      "source": [
        "n = 4 #vertical\n",
        "m = 4 #horizontal\n",
        "\n",
        "cwd = os.getcwd()\n",
        "dataPath = \"NewDataSet\"\n",
        "new_path = os.path.join(cwd,dataPath)\n",
        "try:\n",
        "  os.mkdir(new_path)\n",
        "except:\n",
        "  pass\n",
        "\n",
        "directory = \"/content/BerkleyDataset/Dataset\"\n",
        "num_img = 0\n",
        "for filename in os.listdir(directory):\n",
        "  num_img = num_img + 1\n",
        "  f = os.path.join(directory, filename)\n",
        "  createPatches(num_img,f, new_path)\n"
      ],
      "metadata": {
        "id": "529h16aPgSbD"
      },
      "execution_count": 5,
      "outputs": []
    },
    {
      "cell_type": "code",
      "source": [],
      "metadata": {
        "id": "KlTeFiyjfZ8t"
      },
      "execution_count": null,
      "outputs": []
    }
  ]
}